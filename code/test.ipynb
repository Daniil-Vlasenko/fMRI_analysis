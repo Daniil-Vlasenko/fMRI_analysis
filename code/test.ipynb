{
 "cells": [
  {
   "cell_type": "code",
   "execution_count": 8,
   "outputs": [
    {
     "data": {
      "text/plain": "array([[3.        , 1.        ],\n       [3.66666667, 1.        ],\n       [4.33333333, 1.        ],\n       [5.        , 1.        ],\n       [5.66666667, 1.        ],\n       [6.33333333, 1.        ],\n       [7.        , 1.        ],\n       [7.66666667, 1.        ],\n       [8.33333333, 1.        ],\n       [9.        , 1.        ],\n       [3.        , 1.44444444],\n       [3.66666667, 1.44444444],\n       [4.33333333, 1.44444444],\n       [5.        , 1.44444444],\n       [5.66666667, 1.44444444],\n       [6.33333333, 1.44444444],\n       [7.        , 1.44444444],\n       [7.66666667, 1.44444444],\n       [8.33333333, 1.44444444],\n       [9.        , 1.44444444],\n       [3.        , 1.88888889],\n       [3.66666667, 1.88888889],\n       [4.33333333, 1.88888889],\n       [5.        , 1.88888889],\n       [5.66666667, 1.88888889],\n       [6.33333333, 1.88888889],\n       [7.        , 1.88888889],\n       [7.66666667, 1.88888889],\n       [8.33333333, 1.88888889],\n       [9.        , 1.88888889],\n       [3.        , 2.33333333],\n       [3.66666667, 2.33333333],\n       [4.33333333, 2.33333333],\n       [5.        , 2.33333333],\n       [5.66666667, 2.33333333],\n       [6.33333333, 2.33333333],\n       [7.        , 2.33333333],\n       [7.66666667, 2.33333333],\n       [8.33333333, 2.33333333],\n       [9.        , 2.33333333],\n       [3.        , 2.77777778],\n       [3.66666667, 2.77777778],\n       [4.33333333, 2.77777778],\n       [5.        , 2.77777778],\n       [5.66666667, 2.77777778],\n       [6.33333333, 2.77777778],\n       [7.        , 2.77777778],\n       [7.66666667, 2.77777778],\n       [8.33333333, 2.77777778],\n       [9.        , 2.77777778],\n       [3.        , 3.22222222],\n       [3.66666667, 3.22222222],\n       [4.33333333, 3.22222222],\n       [5.        , 3.22222222],\n       [5.66666667, 3.22222222],\n       [6.33333333, 3.22222222],\n       [7.        , 3.22222222],\n       [7.66666667, 3.22222222],\n       [8.33333333, 3.22222222],\n       [9.        , 3.22222222],\n       [3.        , 3.66666667],\n       [3.66666667, 3.66666667],\n       [4.33333333, 3.66666667],\n       [5.        , 3.66666667],\n       [5.66666667, 3.66666667],\n       [6.33333333, 3.66666667],\n       [7.        , 3.66666667],\n       [7.66666667, 3.66666667],\n       [8.33333333, 3.66666667],\n       [9.        , 3.66666667],\n       [3.        , 4.11111111],\n       [3.66666667, 4.11111111],\n       [4.33333333, 4.11111111],\n       [5.        , 4.11111111],\n       [5.66666667, 4.11111111],\n       [6.33333333, 4.11111111],\n       [7.        , 4.11111111],\n       [7.66666667, 4.11111111],\n       [8.33333333, 4.11111111],\n       [9.        , 4.11111111],\n       [3.        , 4.55555556],\n       [3.66666667, 4.55555556],\n       [4.33333333, 4.55555556],\n       [5.        , 4.55555556],\n       [5.66666667, 4.55555556],\n       [6.33333333, 4.55555556],\n       [7.        , 4.55555556],\n       [7.66666667, 4.55555556],\n       [8.33333333, 4.55555556],\n       [9.        , 4.55555556],\n       [3.        , 5.        ],\n       [3.66666667, 5.        ],\n       [4.33333333, 5.        ],\n       [5.        , 5.        ],\n       [5.66666667, 5.        ],\n       [6.33333333, 5.        ],\n       [7.        , 5.        ],\n       [7.66666667, 5.        ],\n       [8.33333333, 5.        ],\n       [9.        , 5.        ]])"
     },
     "execution_count": 8,
     "metadata": {},
     "output_type": "execute_result"
    }
   ],
   "source": [
    "import numpy as np\n",
    "\n",
    "xx = np.linspace(3, 9, 10)\n",
    "yy = np.linspace(1, 5, 10).T\n",
    "xx, yy = np.meshgrid(xx, yy)\n",
    "np.c_[xx.ravel(), yy.ravel()]"
   ],
   "metadata": {
    "collapsed": false,
    "pycharm": {
     "name": "#%%\n"
    }
   }
  },
  {
   "cell_type": "code",
   "execution_count": null,
   "outputs": [],
   "source": [],
   "metadata": {
    "collapsed": false,
    "pycharm": {
     "name": "#%%\n"
    }
   }
  },
  {
   "cell_type": "code",
   "execution_count": 4,
   "outputs": [
    {
     "data": {
      "text/plain": "array([0. , 0.5, 1. ])"
     },
     "execution_count": 4,
     "metadata": {},
     "output_type": "execute_result"
    }
   ],
   "source": [
    "np.linspace(0, 1, nx)"
   ],
   "metadata": {
    "collapsed": false,
    "pycharm": {
     "name": "#%%\n"
    }
   }
  },
  {
   "cell_type": "code",
   "execution_count": 5,
   "outputs": [
    {
     "data": {
      "text/plain": "array([0., 1.])"
     },
     "execution_count": 5,
     "metadata": {},
     "output_type": "execute_result"
    }
   ],
   "source": [
    "np.linspace(0, 1, ny)"
   ],
   "metadata": {
    "collapsed": false,
    "pycharm": {
     "name": "#%%\n"
    }
   }
  },
  {
   "cell_type": "code",
   "execution_count": 10,
   "outputs": [
    {
     "data": {
      "text/plain": "array([0.75])"
     },
     "execution_count": 10,
     "metadata": {},
     "output_type": "execute_result"
    }
   ],
   "source": [
    "import numpy as np\n",
    "from statsmodels.distributions.empirical_distribution import ECDF\n",
    "ecdf = ECDF([3, 3, 1, 4])\n",
    "ecdf([3])"
   ],
   "metadata": {
    "collapsed": false,
    "pycharm": {
     "name": "#%%\n"
    }
   }
  },
  {
   "cell_type": "code",
   "execution_count": 12,
   "outputs": [
    {
     "ename": "AttributeError",
     "evalue": "'list' object has no attribute 'lower'",
     "output_type": "error",
     "traceback": [
      "\u001B[0;31m---------------------------------------------------------------------------\u001B[0m",
      "\u001B[0;31mAttributeError\u001B[0m                            Traceback (most recent call last)",
      "Cell \u001B[0;32mIn [12], line 1\u001B[0m\n\u001B[0;32m----> 1\u001B[0m ecdf \u001B[38;5;241m=\u001B[39m \u001B[43mECDF\u001B[49m\u001B[43m(\u001B[49m\u001B[43m[\u001B[49m\u001B[38;5;241;43m1\u001B[39;49m\u001B[43m,\u001B[49m\u001B[38;5;241;43m2\u001B[39;49m\u001B[43m,\u001B[49m\u001B[38;5;241;43m3\u001B[39;49m\u001B[43m]\u001B[49m\u001B[43m,\u001B[49m\u001B[43m[\u001B[49m\u001B[38;5;241;43m1\u001B[39;49m\u001B[43m,\u001B[49m\u001B[38;5;241;43m2\u001B[39;49m\u001B[43m,\u001B[49m\u001B[38;5;241;43m3\u001B[39;49m\u001B[43m]\u001B[49m\u001B[43m)\u001B[49m\n\u001B[1;32m      2\u001B[0m ecdf([\u001B[38;5;241m1\u001B[39m],[\u001B[38;5;241m1\u001B[39m])\n",
      "File \u001B[0;32m/usr/local/lib/python3.10/dist-packages/statsmodels/distributions/empirical_distribution.py:139\u001B[0m, in \u001B[0;36mECDF.__init__\u001B[0;34m(self, x, side)\u001B[0m\n\u001B[1;32m    137\u001B[0m nobs \u001B[38;5;241m=\u001B[39m \u001B[38;5;28mlen\u001B[39m(x)\n\u001B[1;32m    138\u001B[0m y \u001B[38;5;241m=\u001B[39m np\u001B[38;5;241m.\u001B[39mlinspace(\u001B[38;5;241m1.\u001B[39m\u001B[38;5;241m/\u001B[39mnobs,\u001B[38;5;241m1\u001B[39m,nobs)\n\u001B[0;32m--> 139\u001B[0m \u001B[38;5;28;43msuper\u001B[39;49m\u001B[43m(\u001B[49m\u001B[43mECDF\u001B[49m\u001B[43m,\u001B[49m\u001B[43m \u001B[49m\u001B[38;5;28;43mself\u001B[39;49m\u001B[43m)\u001B[49m\u001B[38;5;241;43m.\u001B[39;49m\u001B[38;5;21;43m__init__\u001B[39;49m\u001B[43m(\u001B[49m\u001B[43mx\u001B[49m\u001B[43m,\u001B[49m\u001B[43m \u001B[49m\u001B[43my\u001B[49m\u001B[43m,\u001B[49m\u001B[43m \u001B[49m\u001B[43mside\u001B[49m\u001B[38;5;241;43m=\u001B[39;49m\u001B[43mside\u001B[49m\u001B[43m,\u001B[49m\u001B[43m \u001B[49m\u001B[38;5;28;43msorted\u001B[39;49m\u001B[38;5;241;43m=\u001B[39;49m\u001B[38;5;28;43;01mTrue\u001B[39;49;00m\u001B[43m)\u001B[49m\n",
      "File \u001B[0;32m/usr/local/lib/python3.10/dist-packages/statsmodels/distributions/empirical_distribution.py:79\u001B[0m, in \u001B[0;36mStepFunction.__init__\u001B[0;34m(self, x, y, ival, sorted, side)\u001B[0m\n\u001B[1;32m     77\u001B[0m \u001B[38;5;28;01mdef\u001B[39;00m \u001B[38;5;21m__init__\u001B[39m(\u001B[38;5;28mself\u001B[39m, x, y, ival\u001B[38;5;241m=\u001B[39m\u001B[38;5;241m0.\u001B[39m, \u001B[38;5;28msorted\u001B[39m\u001B[38;5;241m=\u001B[39m\u001B[38;5;28;01mFalse\u001B[39;00m, side\u001B[38;5;241m=\u001B[39m\u001B[38;5;124m'\u001B[39m\u001B[38;5;124mleft\u001B[39m\u001B[38;5;124m'\u001B[39m):\n\u001B[0;32m---> 79\u001B[0m     \u001B[38;5;28;01mif\u001B[39;00m \u001B[43mside\u001B[49m\u001B[38;5;241;43m.\u001B[39;49m\u001B[43mlower\u001B[49m() \u001B[38;5;129;01mnot\u001B[39;00m \u001B[38;5;129;01min\u001B[39;00m [\u001B[38;5;124m'\u001B[39m\u001B[38;5;124mright\u001B[39m\u001B[38;5;124m'\u001B[39m, \u001B[38;5;124m'\u001B[39m\u001B[38;5;124mleft\u001B[39m\u001B[38;5;124m'\u001B[39m]:\n\u001B[1;32m     80\u001B[0m         msg \u001B[38;5;241m=\u001B[39m \u001B[38;5;124m\"\u001B[39m\u001B[38;5;124mside can take the values \u001B[39m\u001B[38;5;124m'\u001B[39m\u001B[38;5;124mright\u001B[39m\u001B[38;5;124m'\u001B[39m\u001B[38;5;124m or \u001B[39m\u001B[38;5;124m'\u001B[39m\u001B[38;5;124mleft\u001B[39m\u001B[38;5;124m'\u001B[39m\u001B[38;5;124m\"\u001B[39m\n\u001B[1;32m     81\u001B[0m         \u001B[38;5;28;01mraise\u001B[39;00m \u001B[38;5;167;01mValueError\u001B[39;00m(msg)\n",
      "\u001B[0;31mAttributeError\u001B[0m: 'list' object has no attribute 'lower'"
     ]
    }
   ],
   "source": [
    "ecdf = ECDF([1,2,3],[1,2,3])\n",
    "ecdf([1],[1])"
   ],
   "metadata": {
    "collapsed": false,
    "pycharm": {
     "name": "#%%\n"
    }
   }
  },
  {
   "cell_type": "code",
   "execution_count": null,
   "outputs": [],
   "source": [],
   "metadata": {
    "collapsed": false,
    "pycharm": {
     "name": "#%%\n"
    }
   }
  }
 ],
 "metadata": {
  "kernelspec": {
   "display_name": "Python 3",
   "language": "python",
   "name": "python3"
  },
  "language_info": {
   "codemirror_mode": {
    "name": "ipython",
    "version": 2
   },
   "file_extension": ".py",
   "mimetype": "text/x-python",
   "name": "python",
   "nbconvert_exporter": "python",
   "pygments_lexer": "ipython2",
   "version": "2.7.6"
  }
 },
 "nbformat": 4,
 "nbformat_minor": 0
}