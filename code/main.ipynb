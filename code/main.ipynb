{
 "cells": [
  {
   "cell_type": "code",
   "execution_count": 17,
   "outputs": [],
   "source": [
    "import igraph as ig\n",
    "import numpy as np"
   ],
   "metadata": {
    "collapsed": false,
    "pycharm": {
     "name": "#%%\n"
    }
   }
  },
  {
   "cell_type": "code",
   "execution_count": 80,
   "outputs": [],
   "source": [
    "graph = ig.read(\"../correlations/training/dimensionality_reduction_1/10_10_10/synolitic_method_1/graphs/perception/max/run_0.gml\")\n",
    "graphim = ig.read(\"../correlations/training/dimensionality_reduction_1/10_10_10/synolitic_method_1/graphs/imagery/max/0.gml\")\n",
    "graph.vs[\"flatidvoxel\"] = [int(i) for i in graph.vs[\"flatidvoxel\"]]\n",
    "graph.vs[\"xid\"] = [int(i) for i in graph.vs[\"xid\"]]\n",
    "graph.vs[\"yid\"] = [int(i) for i in graph.vs[\"yid\"]]\n",
    "graph.vs[\"zid\"] = [int(i) for i in graph.vs[\"zid\"]]\n",
    "\n",
    "graphim.vs[\"flatidvoxel\"] = [int(i) for i in graphim.vs[\"flatidvoxel\"]]\n",
    "graphim.vs[\"xid\"] = [int(i) for i in graphim.vs[\"xid\"]]\n",
    "graphim.vs[\"yid\"] = [int(i) for i in graphim.vs[\"yid\"]]\n",
    "graphim.vs[\"zid\"] = [int(i) for i in graphim.vs[\"zid\"]]"
   ],
   "metadata": {
    "collapsed": false,
    "pycharm": {
     "name": "#%%\n"
    }
   }
  },
  {
   "cell_type": "code",
   "execution_count": 81,
   "outputs": [
    {
     "name": "stdout",
     "output_type": "stream",
     "text": [
      "12821\n",
      "13082\n"
     ]
    }
   ],
   "source": [
    "idv = graph.vs(value_le=1)[\"flatidvoxel\"]\n",
    "ide = graph.es(_source=idv)\n",
    "graph.delete_edges(ide)\n",
    "print(len(ide))\n",
    "idv = graphim.vs(value_le=1)[\"flatidvoxel\"]\n",
    "ide = graphim.es(_source=idv)\n",
    "graphim.delete_edges(ide)\n",
    "print(len(ide))"
   ],
   "metadata": {
    "collapsed": false,
    "pycharm": {
     "name": "#%%\n"
    }
   }
  },
  {
   "cell_type": "code",
   "execution_count": 82,
   "outputs": [
    {
     "name": "stdout",
     "output_type": "stream",
     "text": [
      "3623\n",
      "7778\n"
     ]
    }
   ],
   "source": [
    "idel = graph.es(value_le=0.1)\n",
    "ideg = graph.es(value_ge=-0.2)\n",
    "ide = np.intersect1d(idel, ideg)\n",
    "graph.delete_edges(ide)\n",
    "print(len(ide))\n",
    "idel = graphim.es(value_le=0.1)\n",
    "ideg = graphim.es(value_ge=-0.2)\n",
    "ide = np.intersect1d(idel, ideg)\n",
    "graphim.delete_edges(ide)\n",
    "print(len(ide))"
   ],
   "metadata": {
    "collapsed": false,
    "pycharm": {
     "name": "#%%\n"
    }
   }
  },
  {
   "cell_type": "code",
   "execution_count": 77,
   "outputs": [
    {
     "data": {
      "text/plain": "7778"
     },
     "execution_count": 77,
     "metadata": {},
     "output_type": "execute_result"
    }
   ],
   "source": [
    "len(ide)"
   ],
   "metadata": {
    "collapsed": false,
    "pycharm": {
     "name": "#%%\n"
    }
   }
  },
  {
   "cell_type": "code",
   "execution_count": 70,
   "outputs": [
    {
     "data": {
      "text/plain": "745.9138077393973"
     },
     "execution_count": 70,
     "metadata": {},
     "output_type": "execute_result"
    }
   ],
   "source": [],
   "metadata": {
    "collapsed": false,
    "pycharm": {
     "name": "#%%\n"
    }
   }
  },
  {
   "cell_type": "code",
   "execution_count": 71,
   "outputs": [
    {
     "data": {
      "text/plain": "-25078.492983368764"
     },
     "execution_count": 71,
     "metadata": {},
     "output_type": "execute_result"
    }
   ],
   "source": [],
   "metadata": {
    "collapsed": false,
    "pycharm": {
     "name": "#%%\n"
    }
   }
  },
  {
   "cell_type": "code",
   "execution_count": null,
   "outputs": [],
   "source": [],
   "metadata": {
    "collapsed": false,
    "pycharm": {
     "name": "#%%\n"
    }
   }
  }
 ],
 "metadata": {
  "kernelspec": {
   "display_name": "Python 3",
   "language": "python",
   "name": "python3"
  },
  "language_info": {
   "codemirror_mode": {
    "name": "ipython",
    "version": 2
   },
   "file_extension": ".py",
   "mimetype": "text/x-python",
   "name": "python",
   "nbconvert_exporter": "python",
   "pygments_lexer": "ipython2",
   "version": "2.7.6"
  }
 },
 "nbformat": 4,
 "nbformat_minor": 0
}