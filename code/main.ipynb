{
 "cells": [
  {
   "cell_type": "code",
   "execution_count": 1,
   "outputs": [],
   "source": [
    "import igraph as ig\n",
    "import numpy as np"
   ],
   "metadata": {
    "collapsed": false,
    "pycharm": {
     "name": "#%%\n"
    }
   }
  },
  {
   "cell_type": "code",
   "execution_count": 2,
   "outputs": [],
   "source": [
    "graph = ig.read(\"../correlations/training/dimensionality_reduction_1/10_10_10/synolitic_method_1/graphs/perception/max/run_0.gml\")\n",
    "graphim = ig.read(\"../correlations/training/dimensionality_reduction_1/10_10_10/synolitic_method_1/graphs/imagery/max/0.gml\")\n",
    "graph.vs[\"flatidvoxel\"] = [int(i) for i in graph.vs[\"flatidvoxel\"]]\n",
    "graph.vs[\"xid\"] = [int(i) for i in graph.vs[\"xid\"]]\n",
    "graph.vs[\"yid\"] = [int(i) for i in graph.vs[\"yid\"]]\n",
    "graph.vs[\"zid\"] = [int(i) for i in graph.vs[\"zid\"]]\n",
    "\n",
    "graphim.vs[\"flatidvoxel\"] = [int(i) for i in graphim.vs[\"flatidvoxel\"]]\n",
    "graphim.vs[\"xid\"] = [int(i) for i in graphim.vs[\"xid\"]]\n",
    "graphim.vs[\"yid\"] = [int(i) for i in graphim.vs[\"yid\"]]\n",
    "graphim.vs[\"zid\"] = [int(i) for i in graphim.vs[\"zid\"]]"
   ],
   "metadata": {
    "collapsed": false,
    "pycharm": {
     "name": "#%%\n"
    }
   }
  },
  {
   "cell_type": "code",
   "execution_count": 3,
   "outputs": [
    {
     "name": "stdout",
     "output_type": "stream",
     "text": [
      "12821\n",
      "13082\n"
     ]
    }
   ],
   "source": [
    "idv = graph.vs(value_le=1)[\"flatidvoxel\"]\n",
    "ide = graph.es(_source=idv)\n",
    "graph.delete_edges(ide)\n",
    "print(len(ide))\n",
    "idv = graphim.vs(value_le=1)[\"flatidvoxel\"]\n",
    "ide = graphim.es(_source=idv)\n",
    "graphim.delete_edges(ide)\n",
    "print(len(ide))"
   ],
   "metadata": {
    "collapsed": false,
    "pycharm": {
     "name": "#%%\n"
    }
   }
  },
  {
   "cell_type": "code",
   "execution_count": 4,
   "outputs": [
    {
     "name": "stdout",
     "output_type": "stream",
     "text": [
      "3623\n",
      "7778\n"
     ]
    }
   ],
   "source": [
    "idel = graph.es(value_le=0.1)\n",
    "ideg = graph.es(value_ge=-0.2)\n",
    "ide = np.intersect1d(idel, ideg)\n",
    "graph.delete_edges(ide)\n",
    "print(len(ide))\n",
    "idel = graphim.es(value_le=0.1)\n",
    "ideg = graphim.es(value_ge=-0.2)\n",
    "ide = np.intersect1d(idel, ideg)\n",
    "graphim.delete_edges(ide)\n",
    "print(len(ide))"
   ],
   "metadata": {
    "collapsed": false,
    "pycharm": {
     "name": "#%%\n"
    }
   }
  },
  {
   "cell_type": "code",
   "execution_count": 5,
   "outputs": [
    {
     "name": "stdout",
     "output_type": "stream",
     "text": [
      "-24332.579175629417 4792.53573259564\n"
     ]
    }
   ],
   "source": [
    "import graph_analysis_lib as ga\n",
    "print(ga.sum_of_edges(graph), ga.sum_of_edges(graphim))"
   ],
   "metadata": {
    "collapsed": false,
    "pycharm": {
     "name": "#%%\n"
    }
   }
  },
  {
   "cell_type": "code",
   "execution_count": 6,
   "outputs": [
    {
     "name": "stdout",
     "output_type": "stream",
     "text": [
      "-0.4897862152904472 0.10587963354090757\n"
     ]
    }
   ],
   "source": [
    "print(ga.mean_of_edges(graph), ga.mean_of_edges(graphim))"
   ],
   "metadata": {
    "collapsed": false,
    "pycharm": {
     "name": "#%%\n"
    }
   }
  },
  {
   "cell_type": "code",
   "execution_count": 7,
   "outputs": [
    {
     "name": "stdout",
     "output_type": "stream",
     "text": [
      "-0.4615625605035585 0.11680056380812401\n"
     ]
    }
   ],
   "source": [
    "print(ga.median_of_edges(graph), ga.median_of_edges(graphim))"
   ],
   "metadata": {
    "collapsed": false,
    "pycharm": {
     "name": "#%%\n"
    }
   }
  },
  {
   "cell_type": "code",
   "execution_count": 8,
   "outputs": [
    {
     "name": "stdout",
     "output_type": "stream",
     "text": [
      "49680 45264\n"
     ]
    }
   ],
   "source": [
    "print(ga.number_of_edges(graph), ga.number_of_edges(graphim))"
   ],
   "metadata": {
    "collapsed": false,
    "pycharm": {
     "name": "#%%\n"
    }
   }
  },
  {
   "cell_type": "code",
   "execution_count": 9,
   "outputs": [
    {
     "name": "stdout",
     "output_type": "stream",
     "text": [
      "1683 1714\n"
     ]
    }
   ],
   "source": [
    "print(ga.number_of_components(graph), ga.number_of_components(graphim))"
   ],
   "metadata": {
    "collapsed": false,
    "pycharm": {
     "name": "#%%\n"
    }
   }
  },
  {
   "cell_type": "code",
   "execution_count": 10,
   "outputs": [
    {
     "name": "stdout",
     "output_type": "stream",
     "text": [
      "4718 4687\n"
     ]
    }
   ],
   "source": [
    "print(ga.number_of_vertices_in_max_component(graph), ga.number_of_vertices_in_max_component(graphim))"
   ],
   "metadata": {
    "collapsed": false,
    "pycharm": {
     "name": "#%%\n"
    }
   }
  },
  {
   "cell_type": "code",
   "execution_count": 11,
   "outputs": [
    {
     "name": "stdout",
     "output_type": "stream",
     "text": [
      "745.9138077393973 13055.894167023202\n"
     ]
    }
   ],
   "source": [
    "print(ga.sum_of_edges_gt_x(graph, 0), ga.sum_of_edges_gt_x(graphim, 0))"
   ],
   "metadata": {
    "collapsed": false,
    "pycharm": {
     "name": "#%%\n"
    }
   }
  },
  {
   "cell_type": "code",
   "execution_count": 12,
   "outputs": [
    {
     "name": "stdout",
     "output_type": "stream",
     "text": [
      "-25078.492983368764 -8263.358434427633\n"
     ]
    }
   ],
   "source": [
    "print(ga.sum_of_edges_lt_x(graph, 0), ga.sum_of_edges_lt_x(graphim, 0))"
   ],
   "metadata": {
    "collapsed": false,
    "pycharm": {
     "name": "#%%\n"
    }
   }
  },
  {
   "cell_type": "code",
   "execution_count": 6,
   "outputs": [
    {
     "name": "stdout",
     "output_type": "stream",
     "text": [
      "0.3462923898511594 0.5672776088213443\n"
     ]
    }
   ],
   "source": [
    "print(ga.mean_of_edges_gt_x(graph, 0), ga.mean_of_edges_gt_x(graphim, 0))"
   ],
   "metadata": {
    "collapsed": false,
    "pycharm": {
     "name": "#%%\n"
    }
   }
  },
  {
   "cell_type": "code",
   "execution_count": 7,
   "outputs": [
    {
     "name": "stdout",
     "output_type": "stream",
     "text": [
      "-0.5276794382731308 -0.3714035882254303\n"
     ]
    }
   ],
   "source": [
    "print(ga.mean_of_edges_lt_x(graph, 0), ga.mean_of_edges_lt_x(graphim, 0))"
   ],
   "metadata": {
    "collapsed": false,
    "pycharm": {
     "name": "#%%\n"
    }
   }
  },
  {
   "cell_type": "code",
   "execution_count": 8,
   "outputs": [
    {
     "name": "stdout",
     "output_type": "stream",
     "text": [
      "0.2966056539440045 0.565466057206342\n"
     ]
    }
   ],
   "source": [
    "print(ga.median_of_edges_gt_x(graph, 0), ga.median_of_edges_gt_x(graphim, 0))"
   ],
   "metadata": {
    "collapsed": false,
    "pycharm": {
     "name": "#%%\n"
    }
   }
  },
  {
   "cell_type": "code",
   "execution_count": 9,
   "outputs": [
    {
     "name": "stdout",
     "output_type": "stream",
     "text": [
      "-0.4729830795501965 -0.356847163816204\n"
     ]
    }
   ],
   "source": [
    "print(ga.median_of_edges_lt_x(graph, 0), ga.median_of_edges_lt_x(graphim, 0))"
   ],
   "metadata": {
    "collapsed": false,
    "pycharm": {
     "name": "#%%\n"
    }
   }
  },
  {
   "cell_type": "code",
   "execution_count": 18,
   "outputs": [
    {
     "name": "stdout",
     "output_type": "stream",
     "text": [
      "-0.8666860081681695 0.6457246006935292\n",
      "4753 216\n"
     ]
    }
   ],
   "source": [
    "q_1 = np.quantile([value for value in graph.es[\"value\"] if value < 0], 0.1)\n",
    "q_2 = np.quantile([value for value in graph.es[\"value\"] if value > 0], 0.9)\n",
    "print(q_1, q_2)\n",
    "ideq_1 = graph.es(value_le=q_1)\n",
    "ideq_2 = graph.es(value_ge=q_2)\n",
    "print(len(ideq_1), len(ideq_2))"
   ],
   "metadata": {
    "collapsed": false,
    "pycharm": {
     "name": "#%%\n"
    }
   }
  },
  {
   "cell_type": "code",
   "execution_count": 23,
   "outputs": [],
   "source": [
    "idvq_1 = [edge.target for edge in ideq_1 ] + [edge.source for edge in ideq_1 ]\n",
    "idvq_2 = [edge.target for edge in ideq_2 ] + [edge.source for edge in ideq_2 ]"
   ],
   "metadata": {
    "collapsed": false,
    "pycharm": {
     "name": "#%%\n"
    }
   }
  },
  {
   "cell_type": "code",
   "execution_count": 26,
   "outputs": [],
   "source": [
    "xidvq_1 = graph.vs(idvq_1)[\"xid\"]\n",
    "yidvq_1 = graph.vs(idvq_1)[\"yid\"]\n",
    "zidvq_1 = graph.vs(idvq_1)[\"zid\"]\n",
    "\n",
    "xidvq_2 = graph.vs(idvq_2)[\"xid\"]\n",
    "yidvq_2 = graph.vs(idvq_2)[\"yid\"]\n",
    "zidvq_2 = graph.vs(idvq_2)[\"zid\"]"
   ],
   "metadata": {
    "collapsed": false,
    "pycharm": {
     "name": "#%%\n"
    }
   }
  },
  {
   "cell_type": "code",
   "execution_count": 31,
   "outputs": [
    {
     "name": "stdout",
     "output_type": "stream",
     "text": [
      "9.144855880496529 9.847222222222221\n",
      "8.948664001683147 8.948664001683147\n",
      "8.40237744582369 6.12962962962963\n"
     ]
    }
   ],
   "source": [
    "print(np.mean(xidvq_1), np.mean(xidvq_2))\n",
    "print(np.mean(yidvq_1), np.mean(yidvq_1))\n",
    "print(np.mean(zidvq_1), np.mean(zidvq_2))"
   ],
   "metadata": {
    "collapsed": false,
    "pycharm": {
     "name": "#%%\n"
    }
   }
  },
  {
   "cell_type": "code",
   "execution_count": 7,
   "outputs": [
    {
     "name": "stdout",
     "output_type": "stream",
     "text": [
      "9.144855880496529 8.948664001683147 8.40237744582369\n"
     ]
    }
   ],
   "source": [
    "x, y, z = ga.get_vids_with_edges_weight_lt_q1(graph, 0.1)\n",
    "print(np.mean(x), np.mean(y), np.mean(z))"
   ],
   "metadata": {
    "collapsed": false,
    "pycharm": {
     "name": "#%%\n"
    }
   }
  },
  {
   "cell_type": "code",
   "execution_count": 8,
   "outputs": [
    {
     "name": "stdout",
     "output_type": "stream",
     "text": [
      "9.847222222222221 11.291666666666666 6.12962962962963\n"
     ]
    }
   ],
   "source": [
    "x, y, z = ga.get_vids_with_edges_weight_gt_q2(graph, 0.9)\n",
    "print(np.mean(x), np.mean(y), np.mean(z))"
   ],
   "metadata": {
    "collapsed": false,
    "pycharm": {
     "name": "#%%\n"
    }
   }
  },
  {
   "cell_type": "code",
   "execution_count": null,
   "outputs": [],
   "source": [
    "\n"
   ],
   "metadata": {
    "collapsed": false,
    "pycharm": {
     "name": "#%%\n"
    }
   }
  }
 ],
 "metadata": {
  "kernelspec": {
   "display_name": "Python 3",
   "language": "python",
   "name": "python3"
  },
  "language_info": {
   "codemirror_mode": {
    "name": "ipython",
    "version": 2
   },
   "file_extension": ".py",
   "mimetype": "text/x-python",
   "name": "python",
   "nbconvert_exporter": "python",
   "pygments_lexer": "ipython2",
   "version": "2.7.6"
  }
 },
 "nbformat": 4,
 "nbformat_minor": 0
}