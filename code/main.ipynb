{
 "cells": [
  {
   "cell_type": "code",
   "execution_count": 25,
   "outputs": [],
   "source": [
    "import igraph as ig\n",
    "import numpy as np\n",
    "import pandas as pd\n",
    "from sklearn.metrics import accuracy_score\n",
    "from sklearn.svm import SVC"
   ],
   "metadata": {
    "collapsed": false,
    "pycharm": {
     "name": "#%%\n"
    }
   }
  },
  {
   "cell_type": "code",
   "execution_count": 32,
   "outputs": [],
   "source": [
    "data_per_tr = pd.read_csv(\"../correlations/training/dimensionality_reduction_1/10_10_10/synolitic_method_1/features/perception/mean.txt\")\n",
    "data_im_tr = pd.read_csv(\"../correlations/training/dimensionality_reduction_1/10_10_10/synolitic_method_1/features/imagery/mean.txt\")\n",
    "data_per_test = pd.read_csv(\"../correlations/test/dimensionality_reduction_1/10_10_10/synolitic_method_1/features/perception/mean.txt\")\n",
    "data_im_test = pd.read_csv(\"../correlations/test/dimensionality_reduction_1/10_10_10/synolitic_method_1/features/imagery/mean.txt\")"
   ],
   "metadata": {
    "collapsed": false,
    "pycharm": {
     "name": "#%%\n"
    }
   }
  },
  {
   "cell_type": "code",
   "execution_count": 33,
   "outputs": [
    {
     "data": {
      "text/plain": "              sum      mean  quantile_1lt  quantile_2gt       std\n0   -25325.508992 -0.512859     -0.876844      0.637449  0.253512\n1   -26789.678202 -0.535077     -0.891206      0.589783  0.242006\n2   -28145.194368 -0.551294     -0.900275      0.509435  0.226487\n3   -28031.028001 -0.547952     -0.894787      0.531662  0.223802\n4   -28207.429512 -0.551368     -0.902269      0.529505  0.226590\n..            ...       ...           ...           ...       ...\n126 -23906.638959 -0.464775     -0.719963      0.554947  0.197532\n127 -24086.193656 -0.467375     -0.721458      0.548760  0.195657\n128 -24149.846816 -0.469385     -0.724041      0.527650  0.193542\n129 -23629.038970 -0.463051     -0.722770      0.545390  0.200753\n130 -22258.738404 -0.443551     -0.716016      0.630285  0.228264\n\n[131 rows x 5 columns]",
      "text/html": "<div>\n<style scoped>\n    .dataframe tbody tr th:only-of-type {\n        vertical-align: middle;\n    }\n\n    .dataframe tbody tr th {\n        vertical-align: top;\n    }\n\n    .dataframe thead th {\n        text-align: right;\n    }\n</style>\n<table border=\"1\" class=\"dataframe\">\n  <thead>\n    <tr style=\"text-align: right;\">\n      <th></th>\n      <th>sum</th>\n      <th>mean</th>\n      <th>quantile_1lt</th>\n      <th>quantile_2gt</th>\n      <th>std</th>\n    </tr>\n  </thead>\n  <tbody>\n    <tr>\n      <th>0</th>\n      <td>-25325.508992</td>\n      <td>-0.512859</td>\n      <td>-0.876844</td>\n      <td>0.637449</td>\n      <td>0.253512</td>\n    </tr>\n    <tr>\n      <th>1</th>\n      <td>-26789.678202</td>\n      <td>-0.535077</td>\n      <td>-0.891206</td>\n      <td>0.589783</td>\n      <td>0.242006</td>\n    </tr>\n    <tr>\n      <th>2</th>\n      <td>-28145.194368</td>\n      <td>-0.551294</td>\n      <td>-0.900275</td>\n      <td>0.509435</td>\n      <td>0.226487</td>\n    </tr>\n    <tr>\n      <th>3</th>\n      <td>-28031.028001</td>\n      <td>-0.547952</td>\n      <td>-0.894787</td>\n      <td>0.531662</td>\n      <td>0.223802</td>\n    </tr>\n    <tr>\n      <th>4</th>\n      <td>-28207.429512</td>\n      <td>-0.551368</td>\n      <td>-0.902269</td>\n      <td>0.529505</td>\n      <td>0.226590</td>\n    </tr>\n    <tr>\n      <th>...</th>\n      <td>...</td>\n      <td>...</td>\n      <td>...</td>\n      <td>...</td>\n      <td>...</td>\n    </tr>\n    <tr>\n      <th>126</th>\n      <td>-23906.638959</td>\n      <td>-0.464775</td>\n      <td>-0.719963</td>\n      <td>0.554947</td>\n      <td>0.197532</td>\n    </tr>\n    <tr>\n      <th>127</th>\n      <td>-24086.193656</td>\n      <td>-0.467375</td>\n      <td>-0.721458</td>\n      <td>0.548760</td>\n      <td>0.195657</td>\n    </tr>\n    <tr>\n      <th>128</th>\n      <td>-24149.846816</td>\n      <td>-0.469385</td>\n      <td>-0.724041</td>\n      <td>0.527650</td>\n      <td>0.193542</td>\n    </tr>\n    <tr>\n      <th>129</th>\n      <td>-23629.038970</td>\n      <td>-0.463051</td>\n      <td>-0.722770</td>\n      <td>0.545390</td>\n      <td>0.200753</td>\n    </tr>\n    <tr>\n      <th>130</th>\n      <td>-22258.738404</td>\n      <td>-0.443551</td>\n      <td>-0.716016</td>\n      <td>0.630285</td>\n      <td>0.228264</td>\n    </tr>\n  </tbody>\n</table>\n<p>131 rows × 5 columns</p>\n</div>"
     },
     "execution_count": 33,
     "metadata": {},
     "output_type": "execute_result"
    }
   ],
   "source": [
    "data_per_tr = data_per_tr[[\"sum\", \"mean\", \"quantile_1lt\", \"quantile_2gt\", \"std\"]]\n",
    "data_im_tr = data_im_tr[[\"sum\", \"mean\", \"quantile_1lt\", \"quantile_2gt\", \"std\"]]\n",
    "data_per_test = data_per_test[[\"sum\", \"mean\", \"quantile_1lt\", \"quantile_2gt\", \"std\"]]\n",
    "data_im_test = data_im_test[[\"sum\", \"mean\", \"quantile_1lt\", \"quantile_2gt\", \"std\"]]\n",
    "data_per_tr"
   ],
   "metadata": {
    "collapsed": false,
    "pycharm": {
     "name": "#%%\n"
    }
   }
  },
  {
   "cell_type": "code",
   "execution_count": 34,
   "outputs": [
    {
     "data": {
      "text/plain": "             sum      mean  quantile_1lt  quantile_2gt       std\n0  -25325.508992 -0.512859     -0.876844      0.637449  0.253512\n1  -26789.678202 -0.535077     -0.891206      0.589783  0.242006\n2  -28145.194368 -0.551294     -0.900275      0.509435  0.226487\n3  -28031.028001 -0.547952     -0.894787      0.531662  0.223802\n4  -28207.429512 -0.551368     -0.902269      0.529505  0.226590\n..           ...       ...           ...           ...       ...\n65  -7781.432863 -0.167052     -0.560509      0.879518  0.440047\n66  -7637.149676 -0.164480     -0.558290      0.891119  0.442469\n67 -12378.125491 -0.262387     -0.659022      0.898985  0.417393\n68 -11742.301774 -0.250241     -0.659627      0.910976  0.429960\n69 -16310.598059 -0.337177     -0.686142      0.845532  0.354678\n\n[201 rows x 5 columns]",
      "text/html": "<div>\n<style scoped>\n    .dataframe tbody tr th:only-of-type {\n        vertical-align: middle;\n    }\n\n    .dataframe tbody tr th {\n        vertical-align: top;\n    }\n\n    .dataframe thead th {\n        text-align: right;\n    }\n</style>\n<table border=\"1\" class=\"dataframe\">\n  <thead>\n    <tr style=\"text-align: right;\">\n      <th></th>\n      <th>sum</th>\n      <th>mean</th>\n      <th>quantile_1lt</th>\n      <th>quantile_2gt</th>\n      <th>std</th>\n    </tr>\n  </thead>\n  <tbody>\n    <tr>\n      <th>0</th>\n      <td>-25325.508992</td>\n      <td>-0.512859</td>\n      <td>-0.876844</td>\n      <td>0.637449</td>\n      <td>0.253512</td>\n    </tr>\n    <tr>\n      <th>1</th>\n      <td>-26789.678202</td>\n      <td>-0.535077</td>\n      <td>-0.891206</td>\n      <td>0.589783</td>\n      <td>0.242006</td>\n    </tr>\n    <tr>\n      <th>2</th>\n      <td>-28145.194368</td>\n      <td>-0.551294</td>\n      <td>-0.900275</td>\n      <td>0.509435</td>\n      <td>0.226487</td>\n    </tr>\n    <tr>\n      <th>3</th>\n      <td>-28031.028001</td>\n      <td>-0.547952</td>\n      <td>-0.894787</td>\n      <td>0.531662</td>\n      <td>0.223802</td>\n    </tr>\n    <tr>\n      <th>4</th>\n      <td>-28207.429512</td>\n      <td>-0.551368</td>\n      <td>-0.902269</td>\n      <td>0.529505</td>\n      <td>0.226590</td>\n    </tr>\n    <tr>\n      <th>...</th>\n      <td>...</td>\n      <td>...</td>\n      <td>...</td>\n      <td>...</td>\n      <td>...</td>\n    </tr>\n    <tr>\n      <th>65</th>\n      <td>-7781.432863</td>\n      <td>-0.167052</td>\n      <td>-0.560509</td>\n      <td>0.879518</td>\n      <td>0.440047</td>\n    </tr>\n    <tr>\n      <th>66</th>\n      <td>-7637.149676</td>\n      <td>-0.164480</td>\n      <td>-0.558290</td>\n      <td>0.891119</td>\n      <td>0.442469</td>\n    </tr>\n    <tr>\n      <th>67</th>\n      <td>-12378.125491</td>\n      <td>-0.262387</td>\n      <td>-0.659022</td>\n      <td>0.898985</td>\n      <td>0.417393</td>\n    </tr>\n    <tr>\n      <th>68</th>\n      <td>-11742.301774</td>\n      <td>-0.250241</td>\n      <td>-0.659627</td>\n      <td>0.910976</td>\n      <td>0.429960</td>\n    </tr>\n    <tr>\n      <th>69</th>\n      <td>-16310.598059</td>\n      <td>-0.337177</td>\n      <td>-0.686142</td>\n      <td>0.845532</td>\n      <td>0.354678</td>\n    </tr>\n  </tbody>\n</table>\n<p>201 rows × 5 columns</p>\n</div>"
     },
     "execution_count": 34,
     "metadata": {},
     "output_type": "execute_result"
    }
   ],
   "source": [
    "data_tr = pd.concat([data_per_tr, data_im_tr])\n",
    "data_test = pd.concat([data_per_test, data_im_test])\n",
    "\n",
    "Y_tr = [1 for i in range(len(data_per_tr))] + [2 for i in range(len(data_im_tr))]\n",
    "Y_test = [1 for i in range(len(data_per_test))] + [2 for i in range(len(data_im_test))]\n",
    "data_tr"
   ],
   "metadata": {
    "collapsed": false,
    "pycharm": {
     "name": "#%%\n"
    }
   }
  },
  {
   "cell_type": "code",
   "execution_count": 40,
   "outputs": [
    {
     "data": {
      "text/plain": "1.0"
     },
     "execution_count": 40,
     "metadata": {},
     "output_type": "execute_result"
    }
   ],
   "source": [
    "svc = SVC(kernel=\"rbf\", C=10, probability=True)\n",
    "svc.fit(data_tr, Y_tr)\n",
    "Y_pred = svc.predict(data_test)"
   ],
   "metadata": {
    "collapsed": false,
    "pycharm": {
     "name": "#%%\n"
    }
   }
  },
  {
   "cell_type": "code",
   "execution_count": 41,
   "outputs": [
    {
     "data": {
      "text/plain": "1.0"
     },
     "execution_count": 41,
     "metadata": {},
     "output_type": "execute_result"
    }
   ],
   "source": [
    "accuracy = accuracy_score(Y_pred, Y_test)\n",
    "accuracy"
   ],
   "metadata": {
    "collapsed": false,
    "pycharm": {
     "name": "#%%\n"
    }
   }
  },
  {
   "cell_type": "code",
   "execution_count": 42,
   "outputs": [
    {
     "data": {
      "text/plain": "array([ True,  True,  True,  True,  True,  True,  True,  True,  True,\n        True,  True,  True,  True,  True,  True,  True,  True,  True,\n        True,  True,  True,  True,  True,  True,  True,  True,  True,\n        True,  True,  True,  True,  True,  True,  True,  True,  True,\n        True,  True,  True,  True,  True,  True,  True,  True,  True,\n        True,  True,  True,  True,  True,  True,  True,  True,  True,\n        True,  True,  True,  True,  True,  True,  True,  True,  True,\n        True,  True,  True,  True,  True,  True,  True])"
     },
     "execution_count": 42,
     "metadata": {},
     "output_type": "execute_result"
    }
   ],
   "source": [
    "Y_pred == Y_test"
   ],
   "metadata": {
    "collapsed": false,
    "pycharm": {
     "name": "#%%\n"
    }
   }
  },
  {
   "cell_type": "code",
   "execution_count": null,
   "outputs": [],
   "source": [],
   "metadata": {
    "collapsed": false,
    "pycharm": {
     "name": "#%%\n"
    }
   }
  }
 ],
 "metadata": {
  "kernelspec": {
   "display_name": "Python 3",
   "language": "python",
   "name": "python3"
  },
  "language_info": {
   "codemirror_mode": {
    "name": "ipython",
    "version": 2
   },
   "file_extension": ".py",
   "mimetype": "text/x-python",
   "name": "python",
   "nbconvert_exporter": "python",
   "pygments_lexer": "ipython2",
   "version": "2.7.6"
  }
 },
 "nbformat": 4,
 "nbformat_minor": 0
}