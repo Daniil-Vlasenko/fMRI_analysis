{
 "cells": [
  {
   "cell_type": "code",
   "execution_count": 2,
   "outputs": [],
   "source": [
    "import igraph as ig\n",
    "import numpy as np\n",
    "import pandas as pd\n",
    "from sklearn.metrics import accuracy_score\n",
    "from sklearn.svm import SVC"
   ],
   "metadata": {
    "collapsed": false,
    "pycharm": {
     "name": "#%%\n"
    }
   }
  },
  {
   "cell_type": "code",
   "execution_count": 13,
   "outputs": [],
   "source": [
    "data_per_tr = pd.read_csv(\"../correlations/training/dimensionality_reduction_1/10_10_10/synolitic_method_1/features/perception/mean.txt\")\n",
    "data_im_tr = pd.read_csv(\"../correlations/training/dimensionality_reduction_1/10_10_10/synolitic_method_1/features/imagery/mean.txt\")\n",
    "data_per_test = pd.read_csv(\"../correlations/test/dimensionality_reduction_1/10_10_10/synolitic_method_1/features/perception/mean.txt\")\n",
    "data_im_test = pd.read_csv(\"../correlations/test/dimensionality_reduction_1/10_10_10/synolitic_method_1/features/imagery/mean.txt\")"
   ],
   "metadata": {
    "collapsed": false,
    "pycharm": {
     "name": "#%%\n"
    }
   }
  },
  {
   "cell_type": "code",
   "execution_count": 14,
   "outputs": [
    {
     "data": {
      "text/plain": "              sum      mean  quantile_1lt  quantile_2gt       std\n0   -25325.508992 -0.512859     -0.876844      0.637449  0.253512\n1   -26789.678202 -0.535077     -0.891206      0.589783  0.242006\n2   -28145.194368 -0.551294     -0.900275      0.509435  0.226487\n3   -28031.028001 -0.547952     -0.894787      0.531662  0.223802\n4   -28207.429512 -0.551368     -0.902269      0.529505  0.226590\n..            ...       ...           ...           ...       ...\n126 -23906.638959 -0.464775     -0.719963      0.554947  0.197532\n127 -24086.193656 -0.467375     -0.721458      0.548760  0.195657\n128 -24149.846816 -0.469385     -0.724041      0.527650  0.193542\n129 -23629.038970 -0.463051     -0.722770      0.545390  0.200753\n130 -22258.738404 -0.443551     -0.716016      0.630285  0.228264\n\n[131 rows x 5 columns]",
      "text/html": "<div>\n<style scoped>\n    .dataframe tbody tr th:only-of-type {\n        vertical-align: middle;\n    }\n\n    .dataframe tbody tr th {\n        vertical-align: top;\n    }\n\n    .dataframe thead th {\n        text-align: right;\n    }\n</style>\n<table border=\"1\" class=\"dataframe\">\n  <thead>\n    <tr style=\"text-align: right;\">\n      <th></th>\n      <th>sum</th>\n      <th>mean</th>\n      <th>quantile_1lt</th>\n      <th>quantile_2gt</th>\n      <th>std</th>\n    </tr>\n  </thead>\n  <tbody>\n    <tr>\n      <th>0</th>\n      <td>-25325.508992</td>\n      <td>-0.512859</td>\n      <td>-0.876844</td>\n      <td>0.637449</td>\n      <td>0.253512</td>\n    </tr>\n    <tr>\n      <th>1</th>\n      <td>-26789.678202</td>\n      <td>-0.535077</td>\n      <td>-0.891206</td>\n      <td>0.589783</td>\n      <td>0.242006</td>\n    </tr>\n    <tr>\n      <th>2</th>\n      <td>-28145.194368</td>\n      <td>-0.551294</td>\n      <td>-0.900275</td>\n      <td>0.509435</td>\n      <td>0.226487</td>\n    </tr>\n    <tr>\n      <th>3</th>\n      <td>-28031.028001</td>\n      <td>-0.547952</td>\n      <td>-0.894787</td>\n      <td>0.531662</td>\n      <td>0.223802</td>\n    </tr>\n    <tr>\n      <th>4</th>\n      <td>-28207.429512</td>\n      <td>-0.551368</td>\n      <td>-0.902269</td>\n      <td>0.529505</td>\n      <td>0.226590</td>\n    </tr>\n    <tr>\n      <th>...</th>\n      <td>...</td>\n      <td>...</td>\n      <td>...</td>\n      <td>...</td>\n      <td>...</td>\n    </tr>\n    <tr>\n      <th>126</th>\n      <td>-23906.638959</td>\n      <td>-0.464775</td>\n      <td>-0.719963</td>\n      <td>0.554947</td>\n      <td>0.197532</td>\n    </tr>\n    <tr>\n      <th>127</th>\n      <td>-24086.193656</td>\n      <td>-0.467375</td>\n      <td>-0.721458</td>\n      <td>0.548760</td>\n      <td>0.195657</td>\n    </tr>\n    <tr>\n      <th>128</th>\n      <td>-24149.846816</td>\n      <td>-0.469385</td>\n      <td>-0.724041</td>\n      <td>0.527650</td>\n      <td>0.193542</td>\n    </tr>\n    <tr>\n      <th>129</th>\n      <td>-23629.038970</td>\n      <td>-0.463051</td>\n      <td>-0.722770</td>\n      <td>0.545390</td>\n      <td>0.200753</td>\n    </tr>\n    <tr>\n      <th>130</th>\n      <td>-22258.738404</td>\n      <td>-0.443551</td>\n      <td>-0.716016</td>\n      <td>0.630285</td>\n      <td>0.228264</td>\n    </tr>\n  </tbody>\n</table>\n<p>131 rows × 5 columns</p>\n</div>"
     },
     "execution_count": 14,
     "metadata": {},
     "output_type": "execute_result"
    }
   ],
   "source": [
    "data_per_tr = data_per_tr[[\"sum\", \"mean\", \"quantile_1lt\", \"quantile_2gt\", \"std\"]]\n",
    "data_im_tr = data_im_tr[[\"sum\", \"mean\", \"quantile_1lt\", \"quantile_2gt\", \"std\"]]\n",
    "data_per_test = data_per_test[[\"sum\", \"mean\", \"quantile_1lt\", \"quantile_2gt\", \"std\"]]\n",
    "data_im_test = data_im_test[[\"sum\", \"mean\", \"quantile_1lt\", \"quantile_2gt\", \"std\"]]\n",
    "data_per_tr"
   ],
   "metadata": {
    "collapsed": false,
    "pycharm": {
     "name": "#%%\n"
    }
   }
  },
  {
   "cell_type": "code",
   "execution_count": 18,
   "outputs": [
    {
     "data": {
      "text/plain": "             sum      mean  quantile_1lt  quantile_2gt       std\n0  -24432.386736 -0.500643     -0.917318      0.825869  0.323162\n1  -25233.073251 -0.512992     -0.899356      0.744841  0.286539\n2  -24340.364160 -0.498676     -0.886415      0.762123  0.293074\n3  -23836.864142 -0.489333     -0.855503      0.663803  0.267096\n4  -17260.903955 -0.383039     -0.836693      0.790945  0.381347\n5  -15993.413254 -0.358219     -0.827889      0.788168  0.398177\n6  -20826.929106 -0.440185     -0.842045      0.809313  0.327851\n7  -20882.406240 -0.443326     -0.807602      0.686246  0.292105\n8  -20910.846809 -0.432292     -0.836602      0.821721  0.338325\n9  -21959.838191 -0.450449     -0.830012      0.801190  0.310013\n10 -24515.189296 -0.489315     -0.858023      0.804372  0.287122\n11 -24787.294922 -0.494293     -0.855906      0.799575  0.274515\n12 -22698.205428 -0.464565     -0.834984      0.775142  0.296258\n13 -23117.572261 -0.472607     -0.822034      0.648076  0.264883\n14 -22385.710825 -0.460460     -0.868719      0.761264  0.326985\n15 -22252.664229 -0.458251     -0.869241      0.737777  0.328808\n16 -22235.584986 -0.454911     -0.839154      0.839451  0.312075\n17 -23433.578711 -0.472756     -0.800734      0.723203  0.255832\n18 -22849.045363 -0.469604     -0.827799      0.775292  0.283763\n19 -22844.558554 -0.467217     -0.787557      0.720586  0.257058\n20 -21877.293851 -0.448388     -0.763601      0.721354  0.257126\n21 -22225.658837 -0.453391     -0.730380      0.599866  0.221368\n22 -19807.426547 -0.412440     -0.753320      0.751396  0.300964\n23 -19025.198923 -0.400699     -0.707648      0.650245  0.281619\n24 -22099.209191 -0.433513     -0.719825      0.745533  0.249843\n25 -23630.410824 -0.455368     -0.718015      0.614797  0.212253\n26 -19414.169502 -0.390101     -0.725242      0.853757  0.320165\n27 -21180.868784 -0.418636     -0.705606      0.733960  0.263776\n28 -20758.579045 -0.407302     -0.717914      0.797938  0.286271\n29 -22267.306191 -0.430636     -0.714011      0.705934  0.250194\n30 -20530.754579 -0.404443     -0.719525      0.777061  0.292577\n31 -21813.157465 -0.425208     -0.722119      0.697744  0.263648\n32 -16949.298680 -0.361100     -0.669111      0.792696  0.314410\n33 -17941.559074 -0.379860     -0.674145      0.749761  0.290526\n34 -20549.601076 -0.421262     -0.710695      0.738371  0.257692\n35 -22911.194490 -0.455030     -0.730067      0.645835  0.219028\n36 -20096.890451 -0.409264     -0.677981      0.742311  0.255029\n37 -20097.306146 -0.411619     -0.678385      0.695305  0.250281\n38 -19650.691655 -0.403613     -0.725729      0.814568  0.298533\n39 -21774.903239 -0.438877     -0.735569      0.737590  0.252483",
      "text/html": "<div>\n<style scoped>\n    .dataframe tbody tr th:only-of-type {\n        vertical-align: middle;\n    }\n\n    .dataframe tbody tr th {\n        vertical-align: top;\n    }\n\n    .dataframe thead th {\n        text-align: right;\n    }\n</style>\n<table border=\"1\" class=\"dataframe\">\n  <thead>\n    <tr style=\"text-align: right;\">\n      <th></th>\n      <th>sum</th>\n      <th>mean</th>\n      <th>quantile_1lt</th>\n      <th>quantile_2gt</th>\n      <th>std</th>\n    </tr>\n  </thead>\n  <tbody>\n    <tr>\n      <th>0</th>\n      <td>-24432.386736</td>\n      <td>-0.500643</td>\n      <td>-0.917318</td>\n      <td>0.825869</td>\n      <td>0.323162</td>\n    </tr>\n    <tr>\n      <th>1</th>\n      <td>-25233.073251</td>\n      <td>-0.512992</td>\n      <td>-0.899356</td>\n      <td>0.744841</td>\n      <td>0.286539</td>\n    </tr>\n    <tr>\n      <th>2</th>\n      <td>-24340.364160</td>\n      <td>-0.498676</td>\n      <td>-0.886415</td>\n      <td>0.762123</td>\n      <td>0.293074</td>\n    </tr>\n    <tr>\n      <th>3</th>\n      <td>-23836.864142</td>\n      <td>-0.489333</td>\n      <td>-0.855503</td>\n      <td>0.663803</td>\n      <td>0.267096</td>\n    </tr>\n    <tr>\n      <th>4</th>\n      <td>-17260.903955</td>\n      <td>-0.383039</td>\n      <td>-0.836693</td>\n      <td>0.790945</td>\n      <td>0.381347</td>\n    </tr>\n    <tr>\n      <th>5</th>\n      <td>-15993.413254</td>\n      <td>-0.358219</td>\n      <td>-0.827889</td>\n      <td>0.788168</td>\n      <td>0.398177</td>\n    </tr>\n    <tr>\n      <th>6</th>\n      <td>-20826.929106</td>\n      <td>-0.440185</td>\n      <td>-0.842045</td>\n      <td>0.809313</td>\n      <td>0.327851</td>\n    </tr>\n    <tr>\n      <th>7</th>\n      <td>-20882.406240</td>\n      <td>-0.443326</td>\n      <td>-0.807602</td>\n      <td>0.686246</td>\n      <td>0.292105</td>\n    </tr>\n    <tr>\n      <th>8</th>\n      <td>-20910.846809</td>\n      <td>-0.432292</td>\n      <td>-0.836602</td>\n      <td>0.821721</td>\n      <td>0.338325</td>\n    </tr>\n    <tr>\n      <th>9</th>\n      <td>-21959.838191</td>\n      <td>-0.450449</td>\n      <td>-0.830012</td>\n      <td>0.801190</td>\n      <td>0.310013</td>\n    </tr>\n    <tr>\n      <th>10</th>\n      <td>-24515.189296</td>\n      <td>-0.489315</td>\n      <td>-0.858023</td>\n      <td>0.804372</td>\n      <td>0.287122</td>\n    </tr>\n    <tr>\n      <th>11</th>\n      <td>-24787.294922</td>\n      <td>-0.494293</td>\n      <td>-0.855906</td>\n      <td>0.799575</td>\n      <td>0.274515</td>\n    </tr>\n    <tr>\n      <th>12</th>\n      <td>-22698.205428</td>\n      <td>-0.464565</td>\n      <td>-0.834984</td>\n      <td>0.775142</td>\n      <td>0.296258</td>\n    </tr>\n    <tr>\n      <th>13</th>\n      <td>-23117.572261</td>\n      <td>-0.472607</td>\n      <td>-0.822034</td>\n      <td>0.648076</td>\n      <td>0.264883</td>\n    </tr>\n    <tr>\n      <th>14</th>\n      <td>-22385.710825</td>\n      <td>-0.460460</td>\n      <td>-0.868719</td>\n      <td>0.761264</td>\n      <td>0.326985</td>\n    </tr>\n    <tr>\n      <th>15</th>\n      <td>-22252.664229</td>\n      <td>-0.458251</td>\n      <td>-0.869241</td>\n      <td>0.737777</td>\n      <td>0.328808</td>\n    </tr>\n    <tr>\n      <th>16</th>\n      <td>-22235.584986</td>\n      <td>-0.454911</td>\n      <td>-0.839154</td>\n      <td>0.839451</td>\n      <td>0.312075</td>\n    </tr>\n    <tr>\n      <th>17</th>\n      <td>-23433.578711</td>\n      <td>-0.472756</td>\n      <td>-0.800734</td>\n      <td>0.723203</td>\n      <td>0.255832</td>\n    </tr>\n    <tr>\n      <th>18</th>\n      <td>-22849.045363</td>\n      <td>-0.469604</td>\n      <td>-0.827799</td>\n      <td>0.775292</td>\n      <td>0.283763</td>\n    </tr>\n    <tr>\n      <th>19</th>\n      <td>-22844.558554</td>\n      <td>-0.467217</td>\n      <td>-0.787557</td>\n      <td>0.720586</td>\n      <td>0.257058</td>\n    </tr>\n    <tr>\n      <th>20</th>\n      <td>-21877.293851</td>\n      <td>-0.448388</td>\n      <td>-0.763601</td>\n      <td>0.721354</td>\n      <td>0.257126</td>\n    </tr>\n    <tr>\n      <th>21</th>\n      <td>-22225.658837</td>\n      <td>-0.453391</td>\n      <td>-0.730380</td>\n      <td>0.599866</td>\n      <td>0.221368</td>\n    </tr>\n    <tr>\n      <th>22</th>\n      <td>-19807.426547</td>\n      <td>-0.412440</td>\n      <td>-0.753320</td>\n      <td>0.751396</td>\n      <td>0.300964</td>\n    </tr>\n    <tr>\n      <th>23</th>\n      <td>-19025.198923</td>\n      <td>-0.400699</td>\n      <td>-0.707648</td>\n      <td>0.650245</td>\n      <td>0.281619</td>\n    </tr>\n    <tr>\n      <th>24</th>\n      <td>-22099.209191</td>\n      <td>-0.433513</td>\n      <td>-0.719825</td>\n      <td>0.745533</td>\n      <td>0.249843</td>\n    </tr>\n    <tr>\n      <th>25</th>\n      <td>-23630.410824</td>\n      <td>-0.455368</td>\n      <td>-0.718015</td>\n      <td>0.614797</td>\n      <td>0.212253</td>\n    </tr>\n    <tr>\n      <th>26</th>\n      <td>-19414.169502</td>\n      <td>-0.390101</td>\n      <td>-0.725242</td>\n      <td>0.853757</td>\n      <td>0.320165</td>\n    </tr>\n    <tr>\n      <th>27</th>\n      <td>-21180.868784</td>\n      <td>-0.418636</td>\n      <td>-0.705606</td>\n      <td>0.733960</td>\n      <td>0.263776</td>\n    </tr>\n    <tr>\n      <th>28</th>\n      <td>-20758.579045</td>\n      <td>-0.407302</td>\n      <td>-0.717914</td>\n      <td>0.797938</td>\n      <td>0.286271</td>\n    </tr>\n    <tr>\n      <th>29</th>\n      <td>-22267.306191</td>\n      <td>-0.430636</td>\n      <td>-0.714011</td>\n      <td>0.705934</td>\n      <td>0.250194</td>\n    </tr>\n    <tr>\n      <th>30</th>\n      <td>-20530.754579</td>\n      <td>-0.404443</td>\n      <td>-0.719525</td>\n      <td>0.777061</td>\n      <td>0.292577</td>\n    </tr>\n    <tr>\n      <th>31</th>\n      <td>-21813.157465</td>\n      <td>-0.425208</td>\n      <td>-0.722119</td>\n      <td>0.697744</td>\n      <td>0.263648</td>\n    </tr>\n    <tr>\n      <th>32</th>\n      <td>-16949.298680</td>\n      <td>-0.361100</td>\n      <td>-0.669111</td>\n      <td>0.792696</td>\n      <td>0.314410</td>\n    </tr>\n    <tr>\n      <th>33</th>\n      <td>-17941.559074</td>\n      <td>-0.379860</td>\n      <td>-0.674145</td>\n      <td>0.749761</td>\n      <td>0.290526</td>\n    </tr>\n    <tr>\n      <th>34</th>\n      <td>-20549.601076</td>\n      <td>-0.421262</td>\n      <td>-0.710695</td>\n      <td>0.738371</td>\n      <td>0.257692</td>\n    </tr>\n    <tr>\n      <th>35</th>\n      <td>-22911.194490</td>\n      <td>-0.455030</td>\n      <td>-0.730067</td>\n      <td>0.645835</td>\n      <td>0.219028</td>\n    </tr>\n    <tr>\n      <th>36</th>\n      <td>-20096.890451</td>\n      <td>-0.409264</td>\n      <td>-0.677981</td>\n      <td>0.742311</td>\n      <td>0.255029</td>\n    </tr>\n    <tr>\n      <th>37</th>\n      <td>-20097.306146</td>\n      <td>-0.411619</td>\n      <td>-0.678385</td>\n      <td>0.695305</td>\n      <td>0.250281</td>\n    </tr>\n    <tr>\n      <th>38</th>\n      <td>-19650.691655</td>\n      <td>-0.403613</td>\n      <td>-0.725729</td>\n      <td>0.814568</td>\n      <td>0.298533</td>\n    </tr>\n    <tr>\n      <th>39</th>\n      <td>-21774.903239</td>\n      <td>-0.438877</td>\n      <td>-0.735569</td>\n      <td>0.737590</td>\n      <td>0.252483</td>\n    </tr>\n  </tbody>\n</table>\n</div>"
     },
     "execution_count": 18,
     "metadata": {},
     "output_type": "execute_result"
    }
   ],
   "source": [
    "data_per_test"
   ],
   "metadata": {
    "collapsed": false,
    "pycharm": {
     "name": "#%%\n"
    }
   }
  },
  {
   "cell_type": "code",
   "execution_count": null,
   "outputs": [],
   "source": [],
   "metadata": {
    "collapsed": false,
    "pycharm": {
     "name": "#%%\n"
    }
   }
  }
 ],
 "metadata": {
  "kernelspec": {
   "display_name": "Python 3",
   "language": "python",
   "name": "python3"
  },
  "language_info": {
   "codemirror_mode": {
    "name": "ipython",
    "version": 2
   },
   "file_extension": ".py",
   "mimetype": "text/x-python",
   "name": "python",
   "nbconvert_exporter": "python",
   "pygments_lexer": "ipython2",
   "version": "2.7.6"
  }
 },
 "nbformat": 4,
 "nbformat_minor": 0
}